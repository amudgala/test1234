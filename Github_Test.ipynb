{
  "nbformat": 4,
  "nbformat_minor": 0,
  "metadata": {
    "colab": {
      "provenance": [],
      "include_colab_link": true
    },
    "kernelspec": {
      "name": "python3",
      "display_name": "Python 3"
    },
    "language_info": {
      "name": "python"
    }
  },
  "cells": [
    {
      "cell_type": "markdown",
      "metadata": {
        "id": "view-in-github",
        "colab_type": "text"
      },
      "source": [
        "<a href=\"https://colab.research.google.com/github/amudgala/test1234/blob/main/Github_Test.ipynb\" target=\"_parent\"><img src=\"https://colab.research.google.com/assets/colab-badge.svg\" alt=\"Open In Colab\"/></a>"
      ]
    },
    {
      "cell_type": "markdown",
      "source": [
        "#My name is Sri Lakshmi \n"
      ],
      "metadata": {
        "id": "5H62bCGXFkBT"
      }
    },
    {
      "cell_type": "markdown",
      "source": [],
      "metadata": {
        "id": "2-XhpwNWb8mG"
      }
    },
    {
      "cell_type": "code",
      "source": [
        "print('me')"
      ],
      "metadata": {
        "colab": {
          "base_uri": "https://localhost:8080/"
        },
        "id": "NlAdIondFcSo",
        "outputId": "600fa301-66d6-4e23-efa2-ebd20be95704"
      },
      "execution_count": null,
      "outputs": [
        {
          "output_type": "stream",
          "name": "stdout",
          "text": [
            "me\n"
          ]
        }
      ]
    },
    {
      "cell_type": "markdown",
      "source": [
        "Test 123"
      ],
      "metadata": {
        "id": "57pmXh35b5DI"
      }
    }
  ]
}